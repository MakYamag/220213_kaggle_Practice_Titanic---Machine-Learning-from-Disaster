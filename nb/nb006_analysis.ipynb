{
 "cells": [
  {
   "cell_type": "markdown",
   "id": "d8a17ca6",
   "metadata": {},
   "source": [
    "# Overview\n",
    "- nb004の結果が一番良かった、欠損値平均補完/ランダムフォレストでパイプライン*pl_1*作成。\n",
    "- 層化k分割交差検証を実施。また、訓練データ数を横軸にとったLearning Curve、ランダムフォレストの決定木数を横軸に取ったValidation Curveを作成。"
   ]
  },
  {
   "cell_type": "code",
   "execution_count": 1,
   "id": "6c1da982",
   "metadata": {},
   "outputs": [],
   "source": [
    "import numpy as np\n",
    "import pandas as pd\n",
    "import matplotlib.pyplot as plt"
   ]
  },
  {
   "cell_type": "code",
   "execution_count": 2,
   "id": "333b95b7",
   "metadata": {},
   "outputs": [
    {
     "data": {
      "text/html": [
       "<div>\n",
       "<style scoped>\n",
       "    .dataframe tbody tr th:only-of-type {\n",
       "        vertical-align: middle;\n",
       "    }\n",
       "\n",
       "    .dataframe tbody tr th {\n",
       "        vertical-align: top;\n",
       "    }\n",
       "\n",
       "    .dataframe thead th {\n",
       "        text-align: right;\n",
       "    }\n",
       "</style>\n",
       "<table border=\"1\" class=\"dataframe\">\n",
       "  <thead>\n",
       "    <tr style=\"text-align: right;\">\n",
       "      <th></th>\n",
       "      <th>PassengerId</th>\n",
       "      <th>Survived</th>\n",
       "      <th>Pclass</th>\n",
       "      <th>Name</th>\n",
       "      <th>Sex</th>\n",
       "      <th>Age</th>\n",
       "      <th>SibSp</th>\n",
       "      <th>Parch</th>\n",
       "      <th>Ticket</th>\n",
       "      <th>Fare</th>\n",
       "      <th>Cabin</th>\n",
       "      <th>Embarked</th>\n",
       "    </tr>\n",
       "  </thead>\n",
       "  <tbody>\n",
       "    <tr>\n",
       "      <th>0</th>\n",
       "      <td>1</td>\n",
       "      <td>0</td>\n",
       "      <td>3</td>\n",
       "      <td>Braund, Mr. Owen Harris</td>\n",
       "      <td>male</td>\n",
       "      <td>22.0</td>\n",
       "      <td>1</td>\n",
       "      <td>0</td>\n",
       "      <td>A/5 21171</td>\n",
       "      <td>7.2500</td>\n",
       "      <td>NaN</td>\n",
       "      <td>S</td>\n",
       "    </tr>\n",
       "    <tr>\n",
       "      <th>1</th>\n",
       "      <td>2</td>\n",
       "      <td>1</td>\n",
       "      <td>1</td>\n",
       "      <td>Cumings, Mrs. John Bradley (Florence Briggs Th...</td>\n",
       "      <td>female</td>\n",
       "      <td>38.0</td>\n",
       "      <td>1</td>\n",
       "      <td>0</td>\n",
       "      <td>PC 17599</td>\n",
       "      <td>71.2833</td>\n",
       "      <td>C85</td>\n",
       "      <td>C</td>\n",
       "    </tr>\n",
       "    <tr>\n",
       "      <th>2</th>\n",
       "      <td>3</td>\n",
       "      <td>1</td>\n",
       "      <td>3</td>\n",
       "      <td>Heikkinen, Miss. Laina</td>\n",
       "      <td>female</td>\n",
       "      <td>26.0</td>\n",
       "      <td>0</td>\n",
       "      <td>0</td>\n",
       "      <td>STON/O2. 3101282</td>\n",
       "      <td>7.9250</td>\n",
       "      <td>NaN</td>\n",
       "      <td>S</td>\n",
       "    </tr>\n",
       "    <tr>\n",
       "      <th>3</th>\n",
       "      <td>4</td>\n",
       "      <td>1</td>\n",
       "      <td>1</td>\n",
       "      <td>Futrelle, Mrs. Jacques Heath (Lily May Peel)</td>\n",
       "      <td>female</td>\n",
       "      <td>35.0</td>\n",
       "      <td>1</td>\n",
       "      <td>0</td>\n",
       "      <td>113803</td>\n",
       "      <td>53.1000</td>\n",
       "      <td>C123</td>\n",
       "      <td>S</td>\n",
       "    </tr>\n",
       "    <tr>\n",
       "      <th>4</th>\n",
       "      <td>5</td>\n",
       "      <td>0</td>\n",
       "      <td>3</td>\n",
       "      <td>Allen, Mr. William Henry</td>\n",
       "      <td>male</td>\n",
       "      <td>35.0</td>\n",
       "      <td>0</td>\n",
       "      <td>0</td>\n",
       "      <td>373450</td>\n",
       "      <td>8.0500</td>\n",
       "      <td>NaN</td>\n",
       "      <td>S</td>\n",
       "    </tr>\n",
       "  </tbody>\n",
       "</table>\n",
       "</div>"
      ],
      "text/plain": [
       "   PassengerId  Survived  Pclass  \\\n",
       "0            1         0       3   \n",
       "1            2         1       1   \n",
       "2            3         1       3   \n",
       "3            4         1       1   \n",
       "4            5         0       3   \n",
       "\n",
       "                                                Name     Sex   Age  SibSp  \\\n",
       "0                            Braund, Mr. Owen Harris    male  22.0      1   \n",
       "1  Cumings, Mrs. John Bradley (Florence Briggs Th...  female  38.0      1   \n",
       "2                             Heikkinen, Miss. Laina  female  26.0      0   \n",
       "3       Futrelle, Mrs. Jacques Heath (Lily May Peel)  female  35.0      1   \n",
       "4                           Allen, Mr. William Henry    male  35.0      0   \n",
       "\n",
       "   Parch            Ticket     Fare Cabin Embarked  \n",
       "0      0         A/5 21171   7.2500   NaN        S  \n",
       "1      0          PC 17599  71.2833   C85        C  \n",
       "2      0  STON/O2. 3101282   7.9250   NaN        S  \n",
       "3      0            113803  53.1000  C123        S  \n",
       "4      0            373450   8.0500   NaN        S  "
      ]
     },
     "execution_count": 2,
     "metadata": {},
     "output_type": "execute_result"
    }
   ],
   "source": [
    "train_data_raw = pd.read_csv('../data/train.csv')\n",
    "train_data_raw.head()"
   ]
  },
  {
   "cell_type": "code",
   "execution_count": 3,
   "id": "0b25d4be",
   "metadata": {},
   "outputs": [
    {
     "data": {
      "text/plain": [
       "array([[ 3., 22.,  1., ...,  1.,  0.,  1.],\n",
       "       [ 1., 38.,  1., ...,  0.,  0.,  0.],\n",
       "       [ 3., 26.,  0., ...,  0.,  0.,  1.],\n",
       "       ...,\n",
       "       [ 3., nan,  1., ...,  0.,  0.,  1.],\n",
       "       [ 1., 26.,  0., ...,  1.,  0.,  0.],\n",
       "       [ 3., 32.,  0., ...,  1.,  1.,  0.]])"
      ]
     },
     "execution_count": 3,
     "metadata": {},
     "output_type": "execute_result"
    }
   ],
   "source": [
    "# Passengerid, Name, Ticket, Cabin列を除いた特徴量を取得\n",
    "train_data = train_data_raw.drop(['PassengerId', 'Name', 'Ticket', 'Cabin'], axis=1)\n",
    "\n",
    "# Sex, Embarked列をone-hot encordし、それぞれ1列を削除する\n",
    "train_data = pd.get_dummies(train_data, columns=['Sex', 'Embarked'], drop_first=True)\n",
    "train_data_columns = train_data.columns.values\n",
    "\n",
    "# 特徴量をX,ラベルをyとして分離しNumpy配列にする\n",
    "X = train_data.drop(['Survived'], axis=1).values\n",
    "y = train_data['Survived'].values\n",
    "X"
   ]
  },
  {
   "cell_type": "code",
   "execution_count": 4,
   "id": "902920fe",
   "metadata": {},
   "outputs": [
    {
     "name": "stdout",
     "output_type": "stream",
     "text": [
      "Label counts in y: [0 1] = [549 342]\n",
      "Label counts in y_train: [0 1] = [439 273]\n",
      "Label counts in y_test: [0 1] = [110  69]\n"
     ]
    }
   ],
   "source": [
    "# 訓練用、テスト用にデータ分割する   !!!テストデータ情報の混入防止!!!\n",
    "from sklearn.model_selection import train_test_split\n",
    "X_train, X_test, y_train, y_test = train_test_split(X, y, test_size=0.2, random_state=21, stratify=y)   # 訓練:テスト = 80:20\n",
    "\n",
    "print('Label counts in y: [0 1] =', np.bincount(y))\n",
    "print('Label counts in y_train: [0 1] =', np.bincount(y_train))\n",
    "print('Label counts in y_test: [0 1] =', np.bincount(y_test))"
   ]
  },
  {
   "cell_type": "code",
   "execution_count": 23,
   "id": "6da6a6ea",
   "metadata": {},
   "outputs": [
    {
     "name": "stdout",
     "output_type": "stream",
     "text": [
      "Accuracy: 0.810\n"
     ]
    }
   ],
   "source": [
    "# Pipeline: pl_1\n",
    "# 欠損値平均補完 / ランダムフォレスト\n",
    "# ===================================\n",
    "\n",
    "from sklearn.impute import SimpleImputer\n",
    "from sklearn.preprocessing import StandardScaler\n",
    "from sklearn.ensemble import RandomForestClassifier\n",
    "from sklearn.pipeline import make_pipeline\n",
    "\n",
    "pl_1 = make_pipeline(SimpleImputer(missing_values=np.nan, strategy='mean'),\n",
    "                     StandardScaler(),\n",
    "                     RandomForestClassifier(criterion='gini', n_estimators=100, random_state=21, n_jobs=2, max_depth=6))\n",
    "pl_1.fit(X_train, y_train)\n",
    "print('Accuracy: %.3f' % pl_1.score(X_test, y_test))"
   ]
  },
  {
   "cell_type": "code",
   "execution_count": 24,
   "id": "cf885819",
   "metadata": {},
   "outputs": [
    {
     "name": "stdout",
     "output_type": "stream",
     "text": [
      "Fold: 1, Class dist: [395 245], Accuracy: 0.875\n",
      "Fold: 2, Class dist: [395 245], Accuracy: 0.819\n",
      "Fold: 3, Class dist: [395 246], Accuracy: 0.817\n",
      "Fold: 4, Class dist: [395 246], Accuracy: 0.789\n",
      "Fold: 5, Class dist: [395 246], Accuracy: 0.817\n",
      "Fold: 6, Class dist: [395 246], Accuracy: 0.859\n",
      "Fold: 7, Class dist: [395 246], Accuracy: 0.845\n",
      "Fold: 8, Class dist: [395 246], Accuracy: 0.817\n",
      "Fold: 9, Class dist: [395 246], Accuracy: 0.732\n",
      "Fold: 10, Class dist: [396 245], Accuracy: 0.817\n"
     ]
    }
   ],
   "source": [
    "# Stratified k-fold Cross Validation\n",
    "# \"StratifiedKFold\"を使って手動\n",
    "# ===================================\n",
    "\n",
    "from sklearn.model_selection import StratifiedKFold\n",
    "kfold = StratifiedKFold(n_splits=10).split(X_train, y_train)\n",
    "scores = []\n",
    "\n",
    "for k, (train, test) in enumerate(kfold):\n",
    "    pl_1.fit(X_train[train], y_train[train])\n",
    "    score = pl_1.score(X_train[test], y_train[test])\n",
    "    scores.append(score)\n",
    "    print('Fold: %d, Class dist: %s, Accuracy: %.3f' % (k+1, np.bincount(y_train[train]), score))"
   ]
  },
  {
   "cell_type": "code",
   "execution_count": 25,
   "id": "8c955ea8",
   "metadata": {},
   "outputs": [
    {
     "data": {
      "image/png": "[encoded data removed]",
      "text/plain": [
       "<Figure size 432x288 with 1 Axes>"
      ]
     },
     "metadata": {
      "needs_background": "light"
     },
     "output_type": "display_data"
    }
   ],
   "source": [
    "# Learning Curve\n",
    "# \"learning_curve\"を使い、データ個数変えてk分割検証を自動で実施\n",
    "# =============================================================\n",
    "\n",
    "from sklearn.model_selection import learning_curve\n",
    "train_sizes, train_scores, valid_scores = learning_curve(estimator=pl_1, X=X_train, y=y_train,\n",
    "                                                       train_sizes=np.linspace(0.1, 1, 19), cv=10, n_jobs=-1)\n",
    "train_mean = np.mean(train_scores, axis=1)\n",
    "train_std = np.std(train_scores, axis=1)\n",
    "valid_mean = np.mean(valid_scores, axis=1)\n",
    "valid_std = np.std(valid_scores, axis=1)\n",
    "\n",
    "plt.plot(train_sizes, train_mean, color='blue', marker='o', markersize=5, label='Training accuracy')\n",
    "plt.fill_between(train_sizes, train_mean+train_std, train_mean-train_std, color='blue', alpha=0.2)\n",
    "plt.plot(train_sizes, valid_mean, color='green', marker='s', markersize=5, linestyle='--', label='Validation accuracy')\n",
    "plt.fill_between(train_sizes, valid_mean+valid_std, valid_mean-valid_std, color='green', alpha=0.2)\n",
    "plt.grid()\n",
    "plt.title('Learning Curve')\n",
    "plt.xlabel('Number of training examples')\n",
    "plt.ylabel('Accuracy')\n",
    "plt.ylim(0.7, 1.0)\n",
    "\n",
    "plt.savefig('../image/nb006_learningcurve.png')"
   ]
  },
  {
   "cell_type": "code",
   "execution_count": 26,
   "id": "74801672",
   "metadata": {},
   "outputs": [
    {
     "data": {
      "text/plain": [
       "Text(0, 0.5, 'Accuracy')"
      ]
     },
     "execution_count": 26,
     "metadata": {},
     "output_type": "execute_result"
    },
    {
     "data": {
      "image/png": "[encoded data removed]",
      "text/plain": [
       "<Figure size 432x288 with 1 Axes>"
      ]
     },
     "metadata": {
      "needs_background": "light"
     },
     "output_type": "display_data"
    }
   ],
   "source": [
    "# Validation Curve\n",
    "# \"validation_curve\"を使い、ランダムフォレストのn_estimatorを変えてk分割交差検証を自動で実施\n",
    "# ===========================================================================================\n",
    "\n",
    "from sklearn.model_selection import validation_curve\n",
    "param_range = np.arange(10, 200, 10)\n",
    "train_scores, valid_scores = validation_curve(estimator=pl_1, X=X_train, y=y_train,\n",
    "                                              param_name='randomforestclassifier__n_estimators', param_range=param_range, cv=10)\n",
    "train_mean = np.mean(train_scores, axis=1)\n",
    "train_std = np.std(train_scores, axis=1)\n",
    "valid_mean = np.mean(valid_scores, axis=1)\n",
    "valid_std = np.std(valid_scores, axis=1)\n",
    "\n",
    "plt.plot(param_range, train_mean, color='blue', marker='o', markersize=5, label='Training accuracy')\n",
    "plt.fill_between(param_range, train_mean+train_std, train_mean-train_std, color='blue', alpha=0.2)\n",
    "plt.plot(param_range, valid_mean, color='green', marker='s', markersize=5, linestyle='--', label='Validation accuracy')\n",
    "plt.fill_between(param_range, valid_mean+valid_std, valid_mean-valid_std, color='green', alpha=0.2)\n",
    "plt.grid()\n",
    "plt.title('Validation Curve')\n",
    "plt.xlabel('Nuber of estimator in Random Forest Classifier')\n",
    "plt.ylabel('Accuracy')"
   ]
  }
 ],
 "metadata": {
  "kernelspec": {
   "display_name": "Python 3 (ipykernel)",
   "language": "python",
   "name": "python3"
  },
  "language_info": {
   "codemirror_mode": {
    "name": "ipython",
    "version": 3
   },
   "file_extension": ".py",
   "mimetype": "text/x-python",
   "name": "python",
   "nbconvert_exporter": "python",
   "pygments_lexer": "ipython3",
   "version": "3.9.7"
  }
 },
 "nbformat": 4,
 "nbformat_minor": 5
}
